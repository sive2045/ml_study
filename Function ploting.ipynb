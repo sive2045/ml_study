{
 "cells": [
  {
   "cell_type": "code",
   "execution_count": 2,
   "id": "ce6339ae",
   "metadata": {},
   "outputs": [],
   "source": [
    "import numpy as np\n",
    "import scipy\n",
    "import sklearn\n",
    "import matplotlib.pyplot as plt\n",
    "import matplotlib as mpl\n",
    "import sympy\n",
    "import pandas\n",
    "import torch\n",
    "# import jtplot module in notebook\n",
    "from jupyterthemes import jtplot\n",
    "\n",
    "# choose which theme to inherit plotting style from\n",
    "# onedork | grade3 | oceans16 | chesterish | monokai | solarizedl | solarizedd\n",
    "jtplot.style(theme='onedork')"
   ]
  },
  {
   "cell_type": "code",
   "execution_count": 13,
   "id": "3358e409",
   "metadata": {},
   "outputs": [],
   "source": [
    "\n",
    "def arrowed_spines(fig, ax, remove_ticks=False):\n",
    "    \"\"\"\n",
    "    좌표축 화살표를 그리기 위한 함수\n",
    "    https://stackoverflow.com/questions/33737736/matplotlib-axis-arrow-tip\n",
    "    \"\"\"\n",
    "    xmin, xmax = ax.get_xlim() \n",
    "    ymin, ymax = ax.get_ylim()\n",
    "\n",
    "    # removing the default axis on all sides:\n",
    "    for side in ['bottom','right','top','left']:\n",
    "        ax.spines[side].set_visible(False)\n",
    "\n",
    "    if remove_ticks == True: \n",
    "        # removing the axis ticks\n",
    "        plt.xticks([]) # labels \n",
    "        plt.yticks([])\n",
    "        ax.xaxis.set_ticks_position('none') # tick markers\n",
    "        ax.yaxis.set_ticks_position('none')\n",
    "\n",
    "    # get width and height of axes object to compute \n",
    "    # matching arrowhead length and width\n",
    "    dps = fig.dpi_scale_trans.inverted()\n",
    "    bbox = ax.get_window_extent().transformed(dps)\n",
    "    width, height = bbox.width, bbox.height\n",
    "\n",
    "    # manual arrowhead width and length\n",
    "    hw = 1./50.*(ymax-ymin) \n",
    "    hl = 1./25.*(xmax-xmin)\n",
    "    lw = 2. # axis line width\n",
    "    ohg = 0.4 # arrow overhang\n",
    "\n",
    "    # compute matching arrowhead length and width\n",
    "    yhw = hw/(ymax-ymin)*(xmax-xmin)* height/width \n",
    "    yhl = hl/(xmax-xmin)*(ymax-ymin)* width/height\n",
    "\n",
    "    # draw x and y axis\n",
    "    ax.arrow(xmin, 0, xmax-xmin, 0., fc='r', ec='r', lw = lw, \n",
    "             head_width=hw, head_length=hl, #overhang = ohg, \n",
    "             length_includes_head= True, clip_on = False) \n",
    "\n",
    "    ax.arrow(0, ymin, 0., ymax-ymin, fc='r', ec='r', lw = lw, \n",
    "             head_width=yhw, head_length=yhl, #overhang = ohg, \n",
    "             length_includes_head= True, clip_on = False)"
   ]
  },
  {
   "cell_type": "code",
   "execution_count": 34,
   "id": "c6aa4b5d",
   "metadata": {},
   "outputs": [],
   "source": [
    "def log(x, base=np.e):\n",
    "    return np.log(x) / np.log(base)"
   ]
  },
  {
   "cell_type": "code",
   "execution_count": 40,
   "id": "287e5e06",
   "metadata": {},
   "outputs": [
    {
     "name": "stderr",
     "output_type": "stream",
     "text": [
      "<ipython-input-34-26a8a7ab8bfa>:2: RuntimeWarning: divide by zero encountered in log\n",
      "  return np.log(x) / np.log(base)\n",
      "<ipython-input-34-26a8a7ab8bfa>:2: RuntimeWarning: divide by zero encountered in log\n",
      "  return np.log(x) / np.log(base)\n"
     ]
    },
    {
     "data": {
      "image/png": "[encoded data removed]",
      "text/plain": [
       "<Figure size 720x504 with 2 Axes>"
      ]
     },
     "metadata": {},
     "output_type": "display_data"
    }
   ],
   "source": [
    "fig = plt.figure(figsize=(10,7))\n",
    "\n",
    "# a>0 \n",
    "ax1 = fig.add_subplot(1,2,1)\n",
    "ax1.xaxis.set_tick_params(labelsize=18)\n",
    "ax1.yaxis.set_tick_params(labelsize=18)\n",
    "\n",
    "plt.xlabel('$x$', fontsize=25)\n",
    "plt.ylabel('$y$', fontsize=25)\n",
    "\n",
    "x = np.linspace(0,100,1000)\n",
    "log_y, ln_y = log(x,base=10), log(x)\n",
    "\n",
    "ax1.plot(x,log_y,color='b', label=r\"$log x$\")\n",
    "ax1.plot(x,ln_y, '--', color='b', label=r\"$ln x$\")\n",
    "\n",
    "# a<0\n",
    "ax2 = fig.add_subplot(1,2,2)\n",
    "ax2.xaxis.set_tick_params(labelsize=18)\n",
    "ax2.yaxis.set_tick_params(labelsize=18)\n",
    "\n",
    "plt.xlabel('$x$', fontsize=25)\n",
    "plt.ylabel('$y$', fontsize=25)\n",
    "\n",
    "x = np.linspace(0,100,10000)\n",
    "log_y, ln_y = log(x,base=1/10), log(x, base=1/np.e)\n",
    "\n",
    "ax2.plot(x,log_y,color='r', label=r\"$log_1/10 x$\")\n",
    "ax2.plot(x,ln_y, '--',color='r', label=r\"$log_1/e x$\")\n",
    "\n",
    "arrowed_spines(fig,ax1)\n",
    "arrowed_spines(fig,ax2)\n",
    "plt.subplots_adjust(left=0.125, bottom=0.1, right=0.9, top=0.9, wspace=0.5, hspace=0.2)\n",
    "plt.show()"
   ]
  },
  {
   "cell_type": "code",
   "execution_count": 23,
   "id": "50dfffbd",
   "metadata": {},
   "outputs": [
    {
     "name": "stdout",
     "output_type": "stream",
     "text": [
      "[array([       nan,        nan,        nan,        nan,        nan,\n",
      "       0.47140452, 0.81649658, 1.05409255, 1.24721913, 1.41421356]), array([       nan,        nan,        nan,        nan,        nan,\n",
      "       0.60570686, 0.87358046, 1.03574417, 1.15867555, 1.25992105]), array([       nan,        nan,        nan,        nan,        nan,\n",
      "       0.68658905, 0.903602  , 1.0266901 , 1.11678965, 1.18920712])]\n"
     ]
    },
    {
     "name": "stderr",
     "output_type": "stream",
     "text": [
      "<ipython-input-23-74afe4612b3b>:4: RuntimeWarning: invalid value encountered in sqrt\n",
      "  y.append(x**(1/(idx+2)))\n",
      "<ipython-input-23-74afe4612b3b>:4: RuntimeWarning: invalid value encountered in power\n",
      "  y.append(x**(1/(idx+2)))\n"
     ]
    }
   ],
   "source": [
    "x = np.linspace(-2,2,10)\n",
    "y = []\n",
    "for idx in range(3):\n",
    "    y.append(x**(1/(idx+2)))\n",
    "print(y)\n",
    "    "
   ]
  },
  {
   "cell_type": "code",
   "execution_count": null,
   "id": "a6735d4f",
   "metadata": {},
   "outputs": [],
   "source": []
  }
 ],
 "metadata": {
  "kernelspec": {
   "display_name": "Python 3",
   "language": "python",
   "name": "python3"
  },
  "language_info": {
   "codemirror_mode": {
    "name": "ipython",
    "version": 3
   },
   "file_extension": ".py",
   "mimetype": "text/x-python",
   "name": "python",
   "nbconvert_exporter": "python",
   "pygments_lexer": "ipython3",
   "version": "3.8.10"
  }
 },
 "nbformat": 4,
 "nbformat_minor": 5
}
