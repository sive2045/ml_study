{
 "cells": [
  {
   "cell_type": "code",
   "execution_count": 1,
   "id": "9191f6ae",
   "metadata": {},
   "outputs": [],
   "source": [
    "import numpy as np\n",
    "import scipy\n",
    "import sklearn\n",
    "import matplotlib.pyplot as plt\n",
    "import matplotlib as mpl\n",
    "import sympy\n",
    "import pandas\n",
    "import torch\n",
    "# import jtplot module in notebook\n",
    "from jupyterthemes import jtplot\n",
    "\n",
    "# choose which theme to inherit plotting style from\n",
    "# onedork | grade3 | oceans16 | chesterish | monokai | solarizedl | solarizedd\n",
    "jtplot.style(theme='onedork')"
   ]
  },
  {
   "cell_type": "code",
   "execution_count": 2,
   "id": "92c380f3",
   "metadata": {},
   "outputs": [
    {
     "data": {
      "text/plain": [
       "array([[11, 22],\n",
       "       [33, 44]])"
      ]
     },
     "execution_count": 2,
     "metadata": {},
     "output_type": "execute_result"
    }
   ],
   "source": [
    "# matrix example\n",
    "\n",
    "A = np.array([[1,2], \n",
    "              [3,4]])\n",
    "B = np.array([[10,20], \n",
    "              [30,40]])\n",
    "\n",
    "A + B"
   ]
  },
  {
   "cell_type": "code",
   "execution_count": 3,
   "id": "ef3c95f8",
   "metadata": {},
   "outputs": [
    {
     "data": {
      "text/plain": [
       "array([[ 30,  60],\n",
       "       [ 90, 120]])"
      ]
     },
     "execution_count": 3,
     "metadata": {},
     "output_type": "execute_result"
    }
   ],
   "source": [
    "3*B"
   ]
  },
  {
   "cell_type": "code",
   "execution_count": 5,
   "id": "5472903a",
   "metadata": {},
   "outputs": [
    {
     "data": {
      "text/plain": [
       "array([[ 7,  8],\n",
       "       [19, 20]])"
      ]
     },
     "execution_count": 5,
     "metadata": {},
     "output_type": "execute_result"
    }
   ],
   "source": [
    "A = np.array([[1,2,3],\n",
    "             [4,5,6]])\n",
    "B = np.array([[2,1],\n",
    "             [1,2],\n",
    "             [1,1]])\n",
    "\n",
    "C = np.dot(A,B)\n",
    "C"
   ]
  },
  {
   "cell_type": "code",
   "execution_count": 7,
   "id": "58bd490c",
   "metadata": {},
   "outputs": [
    {
     "data": {
      "text/plain": [
       "array([[1, 2, 3],\n",
       "       [4, 5, 6]])"
      ]
     },
     "execution_count": 7,
     "metadata": {},
     "output_type": "execute_result"
    }
   ],
   "source": [
    "A = np.arange(1,7).reshape(2,3)\n",
    "A"
   ]
  },
  {
   "cell_type": "code",
   "execution_count": 8,
   "id": "6d0150ba",
   "metadata": {},
   "outputs": [
    {
     "data": {
      "text/plain": [
       "array([[1, 4],\n",
       "       [2, 5],\n",
       "       [3, 6]])"
      ]
     },
     "execution_count": 8,
     "metadata": {},
     "output_type": "execute_result"
    }
   ],
   "source": [
    "A.transpose()"
   ]
  },
  {
   "cell_type": "code",
   "execution_count": 9,
   "id": "3ecdc8f6",
   "metadata": {},
   "outputs": [
    {
     "data": {
      "text/plain": [
       "array([[1, 4],\n",
       "       [2, 5],\n",
       "       [3, 6]])"
      ]
     },
     "execution_count": 9,
     "metadata": {},
     "output_type": "execute_result"
    }
   ],
   "source": [
    "A.T"
   ]
  },
  {
   "cell_type": "code",
   "execution_count": 11,
   "id": "b08b7d9f",
   "metadata": {},
   "outputs": [
    {
     "data": {
      "text/plain": [
       "array([[2., 4.],\n",
       "       [4., 2.]])"
      ]
     },
     "execution_count": 11,
     "metadata": {},
     "output_type": "execute_result"
    }
   ],
   "source": [
    "A = np.array([[2,4], [4,2]])\n",
    "I = np.eye(2)\n",
    "\n",
    "np.dot(A,I)\n",
    "np.dot(I, A)"
   ]
  },
  {
   "cell_type": "code",
   "execution_count": 15,
   "id": "249e1bbd",
   "metadata": {},
   "outputs": [
    {
     "data": {
      "text/plain": [
       "matrix([[ 3.],\n",
       "        [-3.]])"
      ]
     },
     "execution_count": 15,
     "metadata": {},
     "output_type": "execute_result"
    }
   ],
   "source": [
    "# matrix 연산을 통해\n",
    "# 선형 연립 방정식 solution 구하기.\n",
    "\n",
    "A = np.matrix([[2,1],[-6,3]])\n",
    "b = np.matrix([[3],[-27]])\n",
    "\n",
    "A.I*b"
   ]
  },
  {
   "cell_type": "code",
   "execution_count": 16,
   "id": "e9ce0941",
   "metadata": {},
   "outputs": [
    {
     "data": {
      "text/plain": [
       "matrix([[0.5 , 0.  , 0.  ],\n",
       "        [0.  , 1.  , 0.  ],\n",
       "        [0.  , 0.  , 0.25]])"
      ]
     },
     "execution_count": 16,
     "metadata": {},
     "output_type": "execute_result"
    }
   ],
   "source": [
    "D = np.matrix(np.eye(3)*np.array([2,1,4]))\n",
    "D.I"
   ]
  },
  {
   "cell_type": "code",
   "execution_count": 17,
   "id": "552abb5c",
   "metadata": {},
   "outputs": [
    {
     "data": {
      "text/plain": [
       "matrix([[1., 0., 0.],\n",
       "        [0., 1., 0.],\n",
       "        [0., 0., 1.]])"
      ]
     },
     "execution_count": 17,
     "metadata": {},
     "output_type": "execute_result"
    }
   ],
   "source": [
    "D.I*D"
   ]
  },
  {
   "cell_type": "code",
   "execution_count": 18,
   "id": "36548c54",
   "metadata": {},
   "outputs": [
    {
     "data": {
      "text/plain": [
       "matrix([[ 6.,  0.],\n",
       "        [ 0., -2.]])"
      ]
     },
     "execution_count": 18,
     "metadata": {},
     "output_type": "execute_result"
    }
   ],
   "source": [
    "A = np.matrix([[2,4],[4,2]])\n",
    "X = np.matrix([[0.7071, -0.7071],[0.7071, 0.7071]])\n",
    "D = X.I*A*X\n",
    "D"
   ]
  },
  {
   "cell_type": "code",
   "execution_count": 20,
   "id": "5ef5cc4a",
   "metadata": {},
   "outputs": [
    {
     "data": {
      "text/plain": [
       "(256, 272, 4)"
      ]
     },
     "execution_count": 20,
     "metadata": {},
     "output_type": "execute_result"
    }
   ],
   "source": [
    "im = plt.imread(\"old_python.png\")\n",
    "im.shape # r, g, b, 투명도"
   ]
  },
  {
   "cell_type": "code",
   "execution_count": 22,
   "id": "ec52d5d7",
   "metadata": {},
   "outputs": [
    {
     "data": {
      "text/plain": [
       "<matplotlib.image.AxesImage at 0x1273fa7d7c0>"
      ]
     },
     "execution_count": 22,
     "metadata": {},
     "output_type": "execute_result"
    },
    {
     "data": {
      "image/png": "[encoded data removed]",
      "text/plain": [
       "<Figure size 460.8x403.2 with 1 Axes>"
      ]
     },
     "metadata": {},
     "output_type": "display_data"
    }
   ],
   "source": [
    "plt.imshow(im)"
   ]
  },
  {
   "cell_type": "code",
   "execution_count": 27,
   "id": "5b8a90fa",
   "metadata": {},
   "outputs": [
    {
     "data": {
      "image/png": "[encoded data removed]",
      "text/plain": [
       "<Figure size 1080x504 with 4 Axes>"
      ]
     },
     "metadata": {},
     "output_type": "display_data"
    }
   ],
   "source": [
    "R = im[:,:,0]; G = im[:,:,1]; B = im[:,:,2]; A = im[:,:,3]\n",
    "\n",
    "fig = plt.figure(figsize=(15,7))\n",
    "ax1 = fig.add_subplot(141); ax2 = fig.add_subplot(142)\n",
    "ax3 = fig.add_subplot(143); ax4 = fig.add_subplot(144)\n",
    "\n",
    "ax1.imshow(R); ax1.set_title(\"Red\")\n",
    "ax2.imshow(G); ax2.set_title(\"Green\")\n",
    "ax3.imshow(B); ax3.set_title(\"Blue\")\n",
    "ax4.imshow(A); ax4.set_title(\"Alpha\")\n",
    "\n",
    "plt.show()"
   ]
  },
  {
   "cell_type": "code",
   "execution_count": 34,
   "id": "2191a8a8",
   "metadata": {},
   "outputs": [
    {
     "name": "stdout",
     "output_type": "stream",
     "text": [
      "[['this', 'is', 'the', 'first', 'document'], ['this', 'is', 'the', 'second', 'document'], ['and', 'the', 'third', 'one'], ['is', 'this', 'the', 'first', 'document']]\n"
     ]
    }
   ],
   "source": [
    "# docs example\n",
    "\n",
    "docs = [\n",
    "    'This is the first document',\n",
    "    'This is the second document',\n",
    "    \"And the third one\",\n",
    "    'Is this the first document'\n",
    "]\n",
    "\n",
    "V = ['<NULL>', 'and','document', 'second', 'first', 'is', 'one', 'the', 'third', 'this']\n",
    "\n",
    "pre_docs = list(map(lambda x: x.lower().split(), docs))\n",
    "print(pre_docs)"
   ]
  },
  {
   "cell_type": "code",
   "execution_count": 35,
   "id": "73f11d51",
   "metadata": {},
   "outputs": [
    {
     "data": {
      "text/plain": [
       "[['this', 'is', 'the', 'first', 'document'],\n",
       " ['this', 'is', 'the', 'second', 'document'],\n",
       " ['and', 'the', 'third', 'one', '<NULL>'],\n",
       " ['is', 'this', 'the', 'first', 'document']]"
      ]
     },
     "execution_count": 35,
     "metadata": {},
     "output_type": "execute_result"
    }
   ],
   "source": [
    "N = max([len(doc) for doc in pre_docs])\n",
    "pre_docs = [doc + ['<NULL>']*(N-len(doc)) for doc in pre_docs]\n",
    "pre_docs"
   ]
  },
  {
   "cell_type": "code",
   "execution_count": 38,
   "id": "ee3d8fef",
   "metadata": {},
   "outputs": [
    {
     "data": {
      "text/plain": [
       "array([[9, 5, 7, 4, 2],\n",
       "       [9, 5, 7, 3, 2],\n",
       "       [1, 7, 8, 6, 0],\n",
       "       [5, 9, 7, 4, 2]])"
      ]
     },
     "execution_count": 38,
     "metadata": {},
     "output_type": "execute_result"
    }
   ],
   "source": [
    "# check spares matrix and dense matirx\n",
    "\n",
    "D = [[V.index(w) for w in doc] for doc in pre_docs]\n",
    "D = np.array(D)\n",
    "D"
   ]
  },
  {
   "cell_type": "code",
   "execution_count": 1,
   "id": "51ee79f2",
   "metadata": {},
   "outputs": [
    {
     "name": "stdout",
     "output_type": "stream",
     "text": [
      "hi\n"
     ]
    }
   ],
   "source": [
    "print('hi')"
   ]
  },
  {
   "cell_type": "code",
   "execution_count": null,
   "id": "723b956c",
   "metadata": {},
   "outputs": [],
   "source": []
  }
 ],
 "metadata": {
  "kernelspec": {
   "display_name": "Python 3",
   "language": "python",
   "name": "python3"
  },
  "language_info": {
   "codemirror_mode": {
    "name": "ipython",
    "version": 3
   },
   "file_extension": ".py",
   "mimetype": "text/x-python",
   "name": "python",
   "nbconvert_exporter": "python",
   "pygments_lexer": "ipython3",
   "version": "3.8.10"
  }
 },
 "nbformat": 4,
 "nbformat_minor": 5
}
