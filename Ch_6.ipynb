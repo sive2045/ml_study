{
 "cells": [
  {
   "cell_type": "code",
   "execution_count": 1,
   "id": "32008321",
   "metadata": {},
   "outputs": [],
   "source": [
    "import numpy as np\n",
    "import scipy\n",
    "import sklearn\n",
    "import matplotlib.pyplot as plt\n",
    "import matplotlib as mpl\n",
    "import sympy\n",
    "import pandas\n",
    "import torch\n",
    "# import jtplot module in notebook\n",
    "from jupyterthemes import jtplot\n",
    "\n",
    "# choose which theme to inherit plotting style from\n",
    "# onedork | grade3 | oceans16 | chesterish | monokai | solarizedl | solarizedd\n",
    "jtplot.style(theme='onedork')"
   ]
  },
  {
   "cell_type": "code",
   "execution_count": 4,
   "id": "0e807259",
   "metadata": {},
   "outputs": [
    {
     "data": {
      "text/latex": [
       "$\\displaystyle \\left(2 x + 2\\right) \\log{\\left(x \\right)} + \\frac{x^{2} + 2 x}{x}$"
      ],
      "text/plain": [
       "(2*x + 2)*log(x) + (x**2 + 2*x)/x"
      ]
     },
     "execution_count": 4,
     "metadata": {},
     "output_type": "execute_result"
    }
   ],
   "source": [
    "# 미분법 예제\n",
    "# 0. 직접 미분\n",
    "\n",
    "x = sympy.Symbol('x')\n",
    "f = (x**2 + 2*x)*sympy.log(x)\n",
    "df = sympy.diff(f, x)\n",
    "df"
   ]
  },
  {
   "cell_type": "code",
   "execution_count": 3,
   "id": "684c3c9f",
   "metadata": {},
   "outputs": [
    {
     "data": {
      "text/latex": [
       "$\\displaystyle x + 2 \\left(x + 1\\right) \\log{\\left(x \\right)} + 2$"
      ],
      "text/plain": [
       "x + 2*(x + 1)*log(x) + 2"
      ]
     },
     "execution_count": 3,
     "metadata": {},
     "output_type": "execute_result"
    }
   ],
   "source": [
    "sympy.simplify(df)"
   ]
  },
  {
   "cell_type": "code",
   "execution_count": 5,
   "id": "a9e217bf",
   "metadata": {},
   "outputs": [],
   "source": [
    "#1. 수치 미분\n",
    "\n",
    "def numer_deriv(f, x, h=0.001, method=\"center\"):\n",
    "    \"\"\"\n",
    "    f : 미분합 함수로 주어진 위치에서 함숫값 계산을 위해 사용\n",
    "    x : 미분계수를 구할 변수의 위치로,\n",
    "        일변수인 경우 Int, float\n",
    "        다변수인 경우 numpy array, vector\n",
    "    h : 비율을 구할 작은 구간\n",
    "    \"\"\"\n",
    "    if type(x) in (float, int):\n",
    "        grad = [0,0]\n",
    "        x_ = [x]\n",
    "        var_type = 'scalar'\n",
    "    else :\n",
    "        grad = np.zeros(x.shape)\n",
    "        x_ = x.copy().astype('float32')\n",
    "        var_type = 'vector'\n",
    "    \n",
    "    for i, xi in enumerate(x_):\n",
    "        original_value = x_[i]\n",
    "        \n",
    "        if method=='forward':\n",
    "            x_[i] = original_value + h\n",
    "        else:\n",
    "            x_[i] = original_value + (h/2)\n",
    "        \n",
    "        if var_type == 'scalar':\n",
    "            gradplus = f(x_[i])\n",
    "        else :\n",
    "            gradplus = f(x_)\n",
    "        \n",
    "        if method=='forward':\n",
    "            x_[i] = original_value\n",
    "        else :\n",
    "            x_[i] = original_value - (h/2)\n",
    "        \n",
    "        if var_type =='scalar':\n",
    "            gradminus = f(x_[i])\n",
    "        else :\n",
    "            gradminus = f(x_)\n",
    "        \n",
    "        grad[i] = (gradplus - gradminus) / h\n",
    "        \n",
    "    if var_type == 'scalar':\n",
    "        return grad[0]\n",
    "    else :\n",
    "        return grad"
   ]
  },
  {
   "cell_type": "code",
   "execution_count": 8,
   "id": "574dfc6b",
   "metadata": {},
   "outputs": [
    {
     "data": {
      "text/plain": [
       "2.999999999999666"
      ]
     },
     "execution_count": 8,
     "metadata": {},
     "output_type": "execute_result"
    }
   ],
   "source": [
    "f = lambda x : (x**2 + 2*x)*np.log(x)\n",
    "df = lambda x : 2*(x+1)*np.log(x) + (x+2)\n",
    "\n",
    "numer_deriv(f,1)"
   ]
  },
  {
   "cell_type": "code",
   "execution_count": null,
   "id": "82815740",
   "metadata": {},
   "outputs": [],
   "source": []
  }
 ],
 "metadata": {
  "kernelspec": {
   "display_name": "Python 3",
   "language": "python",
   "name": "python3"
  },
  "language_info": {
   "codemirror_mode": {
    "name": "ipython",
    "version": 3
   },
   "file_extension": ".py",
   "mimetype": "text/x-python",
   "name": "python",
   "nbconvert_exporter": "python",
   "pygments_lexer": "ipython3",
   "version": "3.8.10"
  }
 },
 "nbformat": 4,
 "nbformat_minor": 5
}
